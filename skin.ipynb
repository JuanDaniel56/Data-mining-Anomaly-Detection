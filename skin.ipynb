{
 "cells": [
  {
   "cell_type": "code",
   "execution_count": 1,
   "metadata": {},
   "outputs": [
    {
     "name": "stderr",
     "output_type": "stream",
     "text": [
      "/home/nick/Documents/python_venv/venv/lib/python3.6/site-packages/sklearn/utils/deprecation.py:143: FutureWarning: The sklearn.utils.testing module is  deprecated in version 0.22 and will be removed in version 0.24. The corresponding classes / functions should instead be imported from sklearn.utils. Anything that cannot be imported from sklearn.utils is now part of the private API.\n",
      "  warnings.warn(message, FutureWarning)\n"
     ]
    }
   ],
   "source": [
    "import os\n",
    "import csv\n",
    "import numpy as np\n",
    "import pandas as pd\n",
    "import sklearn\n",
    "import pyod\n",
    "import matplotlib.pyplot as plt\n",
    "import time\n",
    "import collections\n",
    "from scipy import interpolate\n",
    "from sklearn import metrics\n",
    "from sklearn.decomposition import PCA, KernelPCA\n",
    "from pyod.utils.data import evaluate_print\n",
    "from pyod.utils.example import visualize\n",
    "from pyod.utils.utility import standardizer\n",
    "from pyod.models.pca import PCA\n",
    "from pyod.models.knn import KNN\n",
    "from pyod.models.lof import LOF\n",
    "from pyod.models.abod import ABOD\n",
    "from pyod.models.loda import LODA\n",
    "from pyod.models.lscp import LSCP\n",
    "from pyod.models.combination import aom, moa, average, maximization\n",
    "from pyod.utils.utility import precision_n_scores\n",
    "from sklearn.metrics import roc_auc_score\n",
    "from sklearn.datasets import make_classification"
   ]
  },
  {
   "cell_type": "code",
   "execution_count": 2,
   "metadata": {},
   "outputs": [
    {
     "data": {
      "text/html": [
       "<div>\n",
       "<style scoped>\n",
       "    .dataframe tbody tr th:only-of-type {\n",
       "        vertical-align: middle;\n",
       "    }\n",
       "\n",
       "    .dataframe tbody tr th {\n",
       "        vertical-align: top;\n",
       "    }\n",
       "\n",
       "    .dataframe thead th {\n",
       "        text-align: right;\n",
       "    }\n",
       "</style>\n",
       "<table border=\"1\" class=\"dataframe\">\n",
       "  <thead>\n",
       "    <tr style=\"text-align: right;\">\n",
       "      <th></th>\n",
       "      <th>bench.id</th>\n",
       "      <th>benchnum</th>\n",
       "      <th>origin</th>\n",
       "      <th>mset</th>\n",
       "      <th>size</th>\n",
       "      <th>n.anom</th>\n",
       "      <th>n.norm</th>\n",
       "      <th>anomaly.rate.level</th>\n",
       "      <th>point.difficulty.level</th>\n",
       "      <th>clustering.algo</th>\n",
       "      <th>irrelevance.level</th>\n",
       "      <th>anomaly.rate</th>\n",
       "      <th>diff.mean</th>\n",
       "      <th>anom.diff.mean</th>\n",
       "      <th>norm.diff.mean</th>\n",
       "      <th>clusteredness.score</th>\n",
       "      <th>irrelevance.score</th>\n",
       "      <th>auc.ci.0.999</th>\n",
       "      <th>ap.ci.0.999</th>\n",
       "    </tr>\n",
       "  </thead>\n",
       "  <tbody>\n",
       "    <tr>\n",
       "      <th>0</th>\n",
       "      <td>skin_benchmark_0001</td>\n",
       "      <td>1</td>\n",
       "      <td>binary</td>\n",
       "      <td>skin</td>\n",
       "      <td>6000</td>\n",
       "      <td>1217</td>\n",
       "      <td>4783</td>\n",
       "      <td>ar-0</td>\n",
       "      <td>pd-0</td>\n",
       "      <td>none</td>\n",
       "      <td>ir-0</td>\n",
       "      <td>0.202833</td>\n",
       "      <td>0.060019</td>\n",
       "      <td>0.084464</td>\n",
       "      <td>0.053800</td>\n",
       "      <td>1.077364</td>\n",
       "      <td>0.000000</td>\n",
       "      <td>0.525617</td>\n",
       "      <td>0.221824</td>\n",
       "    </tr>\n",
       "    <tr>\n",
       "      <th>1</th>\n",
       "      <td>skin_benchmark_0002</td>\n",
       "      <td>2</td>\n",
       "      <td>binary</td>\n",
       "      <td>skin</td>\n",
       "      <td>6000</td>\n",
       "      <td>1225</td>\n",
       "      <td>4775</td>\n",
       "      <td>ar-0</td>\n",
       "      <td>pd-0</td>\n",
       "      <td>none</td>\n",
       "      <td>ir-0</td>\n",
       "      <td>0.204167</td>\n",
       "      <td>0.058470</td>\n",
       "      <td>0.078569</td>\n",
       "      <td>0.053314</td>\n",
       "      <td>1.061695</td>\n",
       "      <td>0.000000</td>\n",
       "      <td>0.525605</td>\n",
       "      <td>0.223098</td>\n",
       "    </tr>\n",
       "    <tr>\n",
       "      <th>2</th>\n",
       "      <td>skin_benchmark_0003</td>\n",
       "      <td>3</td>\n",
       "      <td>binary</td>\n",
       "      <td>skin</td>\n",
       "      <td>6000</td>\n",
       "      <td>1245</td>\n",
       "      <td>4755</td>\n",
       "      <td>ar-0</td>\n",
       "      <td>pd-0</td>\n",
       "      <td>none</td>\n",
       "      <td>ir-0</td>\n",
       "      <td>0.207500</td>\n",
       "      <td>0.061087</td>\n",
       "      <td>0.087181</td>\n",
       "      <td>0.054254</td>\n",
       "      <td>1.043663</td>\n",
       "      <td>0.000000</td>\n",
       "      <td>0.525368</td>\n",
       "      <td>0.226587</td>\n",
       "    </tr>\n",
       "    <tr>\n",
       "      <th>3</th>\n",
       "      <td>skin_benchmark_0004</td>\n",
       "      <td>4</td>\n",
       "      <td>binary</td>\n",
       "      <td>skin</td>\n",
       "      <td>6000</td>\n",
       "      <td>1187</td>\n",
       "      <td>4813</td>\n",
       "      <td>ar-0</td>\n",
       "      <td>pd-0</td>\n",
       "      <td>none</td>\n",
       "      <td>ir-0</td>\n",
       "      <td>0.197833</td>\n",
       "      <td>0.056877</td>\n",
       "      <td>0.077470</td>\n",
       "      <td>0.051799</td>\n",
       "      <td>1.110271</td>\n",
       "      <td>0.000000</td>\n",
       "      <td>0.525846</td>\n",
       "      <td>0.216778</td>\n",
       "    </tr>\n",
       "    <tr>\n",
       "      <th>4</th>\n",
       "      <td>skin_benchmark_0005</td>\n",
       "      <td>5</td>\n",
       "      <td>binary</td>\n",
       "      <td>skin</td>\n",
       "      <td>6000</td>\n",
       "      <td>1241</td>\n",
       "      <td>4759</td>\n",
       "      <td>ar-0</td>\n",
       "      <td>pd-0</td>\n",
       "      <td>none</td>\n",
       "      <td>ir-0</td>\n",
       "      <td>0.206833</td>\n",
       "      <td>0.057646</td>\n",
       "      <td>0.079658</td>\n",
       "      <td>0.051906</td>\n",
       "      <td>1.011156</td>\n",
       "      <td>0.000000</td>\n",
       "      <td>0.525316</td>\n",
       "      <td>0.225858</td>\n",
       "    </tr>\n",
       "    <tr>\n",
       "      <th>5</th>\n",
       "      <td>skin_benchmark_0006</td>\n",
       "      <td>6</td>\n",
       "      <td>binary</td>\n",
       "      <td>skin</td>\n",
       "      <td>6000</td>\n",
       "      <td>1254</td>\n",
       "      <td>4746</td>\n",
       "      <td>ar-0</td>\n",
       "      <td>pd-0</td>\n",
       "      <td>none</td>\n",
       "      <td>ir-1</td>\n",
       "      <td>0.209000</td>\n",
       "      <td>0.062528</td>\n",
       "      <td>0.085385</td>\n",
       "      <td>0.056489</td>\n",
       "      <td>1.005752</td>\n",
       "      <td>0.289250</td>\n",
       "      <td>0.525009</td>\n",
       "      <td>0.228147</td>\n",
       "    </tr>\n",
       "    <tr>\n",
       "      <th>6</th>\n",
       "      <td>skin_benchmark_0007</td>\n",
       "      <td>7</td>\n",
       "      <td>binary</td>\n",
       "      <td>skin</td>\n",
       "      <td>6000</td>\n",
       "      <td>1241</td>\n",
       "      <td>4759</td>\n",
       "      <td>ar-0</td>\n",
       "      <td>pd-0</td>\n",
       "      <td>none</td>\n",
       "      <td>ir-1</td>\n",
       "      <td>0.206833</td>\n",
       "      <td>0.058779</td>\n",
       "      <td>0.082531</td>\n",
       "      <td>0.052586</td>\n",
       "      <td>1.062922</td>\n",
       "      <td>0.291239</td>\n",
       "      <td>0.525316</td>\n",
       "      <td>0.225858</td>\n",
       "    </tr>\n",
       "    <tr>\n",
       "      <th>7</th>\n",
       "      <td>skin_benchmark_0008</td>\n",
       "      <td>8</td>\n",
       "      <td>binary</td>\n",
       "      <td>skin</td>\n",
       "      <td>6000</td>\n",
       "      <td>1243</td>\n",
       "      <td>4757</td>\n",
       "      <td>ar-0</td>\n",
       "      <td>pd-0</td>\n",
       "      <td>none</td>\n",
       "      <td>ir-1</td>\n",
       "      <td>0.207167</td>\n",
       "      <td>0.059671</td>\n",
       "      <td>0.076238</td>\n",
       "      <td>0.055342</td>\n",
       "      <td>1.085196</td>\n",
       "      <td>0.279120</td>\n",
       "      <td>0.525457</td>\n",
       "      <td>0.226228</td>\n",
       "    </tr>\n",
       "    <tr>\n",
       "      <th>8</th>\n",
       "      <td>skin_benchmark_0009</td>\n",
       "      <td>9</td>\n",
       "      <td>binary</td>\n",
       "      <td>skin</td>\n",
       "      <td>6000</td>\n",
       "      <td>1246</td>\n",
       "      <td>4754</td>\n",
       "      <td>ar-0</td>\n",
       "      <td>pd-0</td>\n",
       "      <td>none</td>\n",
       "      <td>ir-1</td>\n",
       "      <td>0.207667</td>\n",
       "      <td>0.057895</td>\n",
       "      <td>0.080050</td>\n",
       "      <td>0.052088</td>\n",
       "      <td>1.057491</td>\n",
       "      <td>0.288339</td>\n",
       "      <td>0.525209</td>\n",
       "      <td>0.226693</td>\n",
       "    </tr>\n",
       "    <tr>\n",
       "      <th>9</th>\n",
       "      <td>skin_benchmark_0010</td>\n",
       "      <td>10</td>\n",
       "      <td>binary</td>\n",
       "      <td>skin</td>\n",
       "      <td>6000</td>\n",
       "      <td>1187</td>\n",
       "      <td>4813</td>\n",
       "      <td>ar-0</td>\n",
       "      <td>pd-0</td>\n",
       "      <td>none</td>\n",
       "      <td>ir-1</td>\n",
       "      <td>0.197833</td>\n",
       "      <td>0.057528</td>\n",
       "      <td>0.079229</td>\n",
       "      <td>0.052175</td>\n",
       "      <td>1.029784</td>\n",
       "      <td>0.275549</td>\n",
       "      <td>0.525846</td>\n",
       "      <td>0.216778</td>\n",
       "    </tr>\n",
       "  </tbody>\n",
       "</table>\n",
       "</div>"
      ],
      "text/plain": [
       "              bench.id  benchnum  origin  mset  size  n.anom  n.norm  \\\n",
       "0  skin_benchmark_0001         1  binary  skin  6000    1217    4783   \n",
       "1  skin_benchmark_0002         2  binary  skin  6000    1225    4775   \n",
       "2  skin_benchmark_0003         3  binary  skin  6000    1245    4755   \n",
       "3  skin_benchmark_0004         4  binary  skin  6000    1187    4813   \n",
       "4  skin_benchmark_0005         5  binary  skin  6000    1241    4759   \n",
       "5  skin_benchmark_0006         6  binary  skin  6000    1254    4746   \n",
       "6  skin_benchmark_0007         7  binary  skin  6000    1241    4759   \n",
       "7  skin_benchmark_0008         8  binary  skin  6000    1243    4757   \n",
       "8  skin_benchmark_0009         9  binary  skin  6000    1246    4754   \n",
       "9  skin_benchmark_0010        10  binary  skin  6000    1187    4813   \n",
       "\n",
       "  anomaly.rate.level point.difficulty.level clustering.algo irrelevance.level  \\\n",
       "0               ar-0                   pd-0            none              ir-0   \n",
       "1               ar-0                   pd-0            none              ir-0   \n",
       "2               ar-0                   pd-0            none              ir-0   \n",
       "3               ar-0                   pd-0            none              ir-0   \n",
       "4               ar-0                   pd-0            none              ir-0   \n",
       "5               ar-0                   pd-0            none              ir-1   \n",
       "6               ar-0                   pd-0            none              ir-1   \n",
       "7               ar-0                   pd-0            none              ir-1   \n",
       "8               ar-0                   pd-0            none              ir-1   \n",
       "9               ar-0                   pd-0            none              ir-1   \n",
       "\n",
       "   anomaly.rate  diff.mean  anom.diff.mean  norm.diff.mean  \\\n",
       "0      0.202833   0.060019        0.084464        0.053800   \n",
       "1      0.204167   0.058470        0.078569        0.053314   \n",
       "2      0.207500   0.061087        0.087181        0.054254   \n",
       "3      0.197833   0.056877        0.077470        0.051799   \n",
       "4      0.206833   0.057646        0.079658        0.051906   \n",
       "5      0.209000   0.062528        0.085385        0.056489   \n",
       "6      0.206833   0.058779        0.082531        0.052586   \n",
       "7      0.207167   0.059671        0.076238        0.055342   \n",
       "8      0.207667   0.057895        0.080050        0.052088   \n",
       "9      0.197833   0.057528        0.079229        0.052175   \n",
       "\n",
       "   clusteredness.score  irrelevance.score  auc.ci.0.999  ap.ci.0.999  \n",
       "0             1.077364           0.000000      0.525617     0.221824  \n",
       "1             1.061695           0.000000      0.525605     0.223098  \n",
       "2             1.043663           0.000000      0.525368     0.226587  \n",
       "3             1.110271           0.000000      0.525846     0.216778  \n",
       "4             1.011156           0.000000      0.525316     0.225858  \n",
       "5             1.005752           0.289250      0.525009     0.228147  \n",
       "6             1.062922           0.291239      0.525316     0.225858  \n",
       "7             1.085196           0.279120      0.525457     0.226228  \n",
       "8             1.057491           0.288339      0.525209     0.226693  \n",
       "9             1.029784           0.275549      0.525846     0.216778  "
      ]
     },
     "execution_count": 2,
     "metadata": {},
     "output_type": "execute_result"
    }
   ],
   "source": [
    "data = pd.read_csv('meta_data/meta_skin.csv')\n",
    "data.head(10)"
   ]
  },
  {
   "cell_type": "code",
   "execution_count": 3,
   "metadata": {},
   "outputs": [],
   "source": [
    "ar = data['anomaly.rate']\n",
    "ar_level = data['anomaly.rate.level']"
   ]
  },
  {
   "cell_type": "code",
   "execution_count": 4,
   "metadata": {},
   "outputs": [
    {
     "data": {
      "text/plain": [
       "{'ar-0', 'ar-1', 'ar-2', 'ar-3', 'ar-4', 'ar-6'}"
      ]
     },
     "execution_count": 4,
     "metadata": {},
     "output_type": "execute_result"
    }
   ],
   "source": [
    "set(ar_level)"
   ]
  },
  {
   "cell_type": "code",
   "execution_count": 5,
   "metadata": {},
   "outputs": [
    {
     "name": "stdout",
     "output_type": "stream",
     "text": [
      "300\n",
      "240\n",
      "240\n",
      "240\n",
      "240\n",
      "240\n"
     ]
    }
   ],
   "source": [
    "data_dict = collections.defaultdict(list)\n",
    "for item in data.iterrows():\n",
    "    data_dict[item[1]['anomaly.rate.level']].append(item[1]['bench.id'])\n",
    "for item in data_dict:\n",
    "    print(len(data_dict[item]))"
   ]
  },
  {
   "cell_type": "code",
   "execution_count": 6,
   "metadata": {},
   "outputs": [
    {
     "data": {
      "text/plain": [
       "[0.30740880709938573,\n",
       " 0.0010000000000000005,\n",
       " 0.005,\n",
       " 0.01,\n",
       " 0.05000000000000001,\n",
       " 0.10000000000000002]"
      ]
     },
     "execution_count": 6,
     "metadata": {},
     "output_type": "execute_result"
    }
   ],
   "source": [
    "ar_mean = [np.mean(ar[:300]), np.mean(ar[300:540]), np.mean(ar[540: 780]),\n",
    "          np.mean(ar[780:1020]), np.mean(ar[1020:1260]), np.mean(ar[1260:1500])]\n",
    "ar_mean"
   ]
  },
  {
   "cell_type": "markdown",
   "metadata": {},
   "source": [
    "### 如上所示，数据一共分为6个异常点比例等级"
   ]
  },
  {
   "cell_type": "markdown",
   "metadata": {},
   "source": [
    "# 查看其中一个数据，选择特征"
   ]
  },
  {
   "cell_type": "code",
   "execution_count": 7,
   "metadata": {},
   "outputs": [
    {
     "data": {
      "text/html": [
       "<div>\n",
       "<style scoped>\n",
       "    .dataframe tbody tr th:only-of-type {\n",
       "        vertical-align: middle;\n",
       "    }\n",
       "\n",
       "    .dataframe tbody tr th {\n",
       "        vertical-align: top;\n",
       "    }\n",
       "\n",
       "    .dataframe thead th {\n",
       "        text-align: right;\n",
       "    }\n",
       "</style>\n",
       "<table border=\"1\" class=\"dataframe\">\n",
       "  <thead>\n",
       "    <tr style=\"text-align: right;\">\n",
       "      <th></th>\n",
       "      <th>point.id</th>\n",
       "      <th>motherset</th>\n",
       "      <th>origin</th>\n",
       "      <th>original.label</th>\n",
       "      <th>diff.score</th>\n",
       "      <th>ground.truth</th>\n",
       "      <th>R</th>\n",
       "      <th>G</th>\n",
       "      <th>B</th>\n",
       "    </tr>\n",
       "  </thead>\n",
       "  <tbody>\n",
       "    <tr>\n",
       "      <th>0</th>\n",
       "      <td>skin_point_117027</td>\n",
       "      <td>skin</td>\n",
       "      <td>binary</td>\n",
       "      <td>2</td>\n",
       "      <td>0.020405</td>\n",
       "      <td>nominal</td>\n",
       "      <td>-1.864336</td>\n",
       "      <td>-2.110524</td>\n",
       "      <td>-1.587289</td>\n",
       "    </tr>\n",
       "    <tr>\n",
       "      <th>1</th>\n",
       "      <td>skin_point_016927</td>\n",
       "      <td>skin</td>\n",
       "      <td>binary</td>\n",
       "      <td>1</td>\n",
       "      <td>0.000250</td>\n",
       "      <td>anomaly</td>\n",
       "      <td>0.384456</td>\n",
       "      <td>0.925785</td>\n",
       "      <td>1.747782</td>\n",
       "    </tr>\n",
       "    <tr>\n",
       "      <th>2</th>\n",
       "      <td>skin_point_240995</td>\n",
       "      <td>skin</td>\n",
       "      <td>binary</td>\n",
       "      <td>2</td>\n",
       "      <td>0.001285</td>\n",
       "      <td>nominal</td>\n",
       "      <td>-0.980882</td>\n",
       "      <td>-1.092860</td>\n",
       "      <td>-1.394351</td>\n",
       "    </tr>\n",
       "    <tr>\n",
       "      <th>3</th>\n",
       "      <td>skin_point_018861</td>\n",
       "      <td>skin</td>\n",
       "      <td>binary</td>\n",
       "      <td>1</td>\n",
       "      <td>0.000739</td>\n",
       "      <td>anomaly</td>\n",
       "      <td>-1.125447</td>\n",
       "      <td>-0.542320</td>\n",
       "      <td>0.383435</td>\n",
       "    </tr>\n",
       "    <tr>\n",
       "      <th>4</th>\n",
       "      <td>skin_point_087883</td>\n",
       "      <td>skin</td>\n",
       "      <td>binary</td>\n",
       "      <td>2</td>\n",
       "      <td>0.001053</td>\n",
       "      <td>nominal</td>\n",
       "      <td>-0.964819</td>\n",
       "      <td>-1.076177</td>\n",
       "      <td>-1.380570</td>\n",
       "    </tr>\n",
       "  </tbody>\n",
       "</table>\n",
       "</div>"
      ],
      "text/plain": [
       "            point.id motherset  origin  original.label  diff.score  \\\n",
       "0  skin_point_117027      skin  binary               2    0.020405   \n",
       "1  skin_point_016927      skin  binary               1    0.000250   \n",
       "2  skin_point_240995      skin  binary               2    0.001285   \n",
       "3  skin_point_018861      skin  binary               1    0.000739   \n",
       "4  skin_point_087883      skin  binary               2    0.001053   \n",
       "\n",
       "  ground.truth         R         G         B  \n",
       "0      nominal -1.864336 -2.110524 -1.587289  \n",
       "1      anomaly  0.384456  0.925785  1.747782  \n",
       "2      nominal -0.980882 -1.092860 -1.394351  \n",
       "3      anomaly -1.125447 -0.542320  0.383435  \n",
       "4      nominal -0.964819 -1.076177 -1.380570  "
      ]
     },
     "execution_count": 7,
     "metadata": {},
     "output_type": "execute_result"
    }
   ],
   "source": [
    "data = pd.read_csv('benchmarks/skin_benchmark_0001.csv')\n",
    "data.head(5)"
   ]
  },
  {
   "cell_type": "code",
   "execution_count": 8,
   "metadata": {},
   "outputs": [
    {
     "data": {
      "text/plain": [
       "Index(['point.id', 'motherset', 'origin', 'original.label', 'diff.score',\n",
       "       'ground.truth', 'R', 'G', 'B'],\n",
       "      dtype='object')"
      ]
     },
     "execution_count": 8,
     "metadata": {},
     "output_type": "execute_result"
    }
   ],
   "source": [
    "data.columns"
   ]
  },
  {
   "cell_type": "markdown",
   "metadata": {},
   "source": [
    "## 以为'R', 'G', 'B'特征"
   ]
  },
  {
   "cell_type": "code",
   "execution_count": 9,
   "metadata": {},
   "outputs": [],
   "source": [
    "def evaluation(y, y_scores, method):\n",
    "    if isinstance(y_scores, dict):\n",
    "        colors = ['r', 'g', 'b', '#FF1493', '#483D8B']\n",
    "        plt.figure(figsize = (7, 7))\n",
    "        i = 0\n",
    "        for algo in y_scores:\n",
    "            pre_scr = y_scores[algo]\n",
    "            print(algo, pre_scr.shape)\n",
    "            fpr_level = np.arange(0, 1, 0.01)\n",
    "            fpr, tpr, threshold = metrics.roc_curve(y, pre_scr)\n",
    "            interp = interpolate.interp1d(fpr, tpr)\n",
    "            tpr_at_fpr = [interp(x) for x in fpr_level]\n",
    "            roc_auc = metrics.auc(fpr, tpr)\n",
    "            plt.plot(fpr, tpr, color = colors[i], label = '%s ROC(area = %0.2f)'%(algo, roc_auc))\n",
    "            i += 1\n",
    "        plt.xlabel('FPR')\n",
    "        plt.ylabel('TPR')\n",
    "        plt.title('Models Compare' + '-ROC')\n",
    "        plt.plot([0,1], [0,1], color = 'navy', linestyle = '--')\n",
    "        plt.legend(loc = 'lower right')\n",
    "    else:\n",
    "        fpr_level = np.arange(0, 1, 0.01)\n",
    "        fpr, tpr, threshold = metrics.roc_curve(y, y_scores)\n",
    "        interp = interpolate.interp1d(fpr, tpr)\n",
    "        tpr_at_fpr = [interp(x) for x in fpr_level]\n",
    "        roc_auc = metrics.auc(fpr, tpr)\n",
    "        precision, recall, _ = metrics.precision_recall_curve(y, y_scores)\n",
    "        pr_auc = round(precision_n_scores(y, y_scores), ndigits=4)\n",
    "        plt.figure(figsize=(12,5))\n",
    "        plt.subplot(1, 2, 1)\n",
    "        plt.xlabel('FPR')\n",
    "        plt.ylabel('TPR')\n",
    "        plt.title(method + '-ROC')\n",
    "        plt.plot([0, 1], [0, 1], color='navy', linestyle='--')\n",
    "        plt.plot(fpr, tpr, color='r', label='ROC curve (area = %0.2f)' % roc_auc)\n",
    "        plt.legend(loc=\"lower right\")\n",
    "        plt.subplot(1, 2, 2)\n",
    "        plt.plot(recall, precision, marker='.', label='precision @ rank n: %0.2f)' % pr_auc)\n",
    "        plt.legend(loc=\"upper right\")\n",
    "        plt.xlabel('Recall')\n",
    "        plt.ylabel('Precision')\n",
    "        plt.title(method + '-PR')\n",
    "        plt.show()"
   ]
  },
  {
   "cell_type": "markdown",
   "metadata": {},
   "source": [
    "# 对原始数据抽样，每个异常点level选择一个benchmark"
   ]
  },
  {
   "cell_type": "code",
   "execution_count": 10,
   "metadata": {},
   "outputs": [
    {
     "data": {
      "text/plain": [
       "0.06147222222222222"
      ]
     },
     "execution_count": 10,
     "metadata": {},
     "output_type": "execute_result"
    }
   ],
   "source": [
    "path = './benchmarks'\n",
    "samples = []\n",
    "for item in data_dict:\n",
    "    samples.append(data_dict[item][0])\n",
    "y = []\n",
    "x_train = []\n",
    "contam = 0\n",
    "for sample in samples:\n",
    "    file_path = os.path.join(path, sample + '.csv')\n",
    "    data = pd.read_csv(file_path)\n",
    "    data = data.dropna()\n",
    "    for i in data.iterrows():\n",
    "        if i[1][5] == 'anomaly':\n",
    "            y.append(1)\n",
    "            contam += 1\n",
    "        else:\n",
    "            y.append(0)\n",
    "        x_train.append(list(i[1][6:17]))\n",
    "x_train = np.array(x_train)\n",
    "y = np.array(y)\n",
    "contam /= len(y)\n",
    "contam"
   ]
  },
  {
   "cell_type": "markdown",
   "metadata": {},
   "source": [
    "# 在抽样集合中进行离群点检测"
   ]
  },
  {
   "cell_type": "code",
   "execution_count": 11,
   "metadata": {},
   "outputs": [],
   "source": [
    "algorithms = ['KNN', 'PCA', 'LOF', 'PCA + KNN']\n",
    "all_scores = {}"
   ]
  },
  {
   "cell_type": "markdown",
   "metadata": {},
   "source": [
    "## 1.KNN"
   ]
  },
  {
   "cell_type": "code",
   "execution_count": 12,
   "metadata": {},
   "outputs": [
    {
     "data": {
      "image/png": "[encoded data removed]",
      "text/plain": [
       "<Figure size 864x360 with 2 Axes>"
      ]
     },
     "metadata": {
      "needs_background": "light"
     },
     "output_type": "display_data"
    }
   ],
   "source": [
    "clf_name = 'KNN'\n",
    "clf = KNN(n_neighbors = 5, contamination = contam)\n",
    "x_train = standardizer(x_train)\n",
    "clf.fit(x_train)\n",
    "knn_y_pred = clf.labels_\n",
    "knn_y_scores = clf.decision_scores_\n",
    "evaluation(y, knn_y_scores, clf_name)\n",
    "all_scores['KNN'] = knn_y_scores"
   ]
  },
  {
   "cell_type": "markdown",
   "metadata": {},
   "source": [
    "## 2.PCA"
   ]
  },
  {
   "cell_type": "code",
   "execution_count": 13,
   "metadata": {},
   "outputs": [
    {
     "data": {
      "image/png": "[encoded data removed]",
      "text/plain": [
       "<Figure size 864x360 with 2 Axes>"
      ]
     },
     "metadata": {
      "needs_background": "light"
     },
     "output_type": "display_data"
    }
   ],
   "source": [
    "clf_name = 'PCA'\n",
    "clf = PCA(contamination=contam)\n",
    "x_train = standardizer(x_train)\n",
    "clf.fit(x_train)\n",
    "y_pred = clf.labels_  \n",
    "y_scores = clf.decision_scores_\n",
    "evaluation(y, y_scores, clf_name)\n",
    "all_scores['PCA'] = y_scores"
   ]
  },
  {
   "cell_type": "markdown",
   "metadata": {},
   "source": [
    "## 3.LOF"
   ]
  },
  {
   "cell_type": "code",
   "execution_count": 14,
   "metadata": {},
   "outputs": [
    {
     "data": {
      "image/png": "[encoded data removed]",
      "text/plain": [
       "<Figure size 864x360 with 2 Axes>"
      ]
     },
     "metadata": {
      "needs_background": "light"
     },
     "output_type": "display_data"
    }
   ],
   "source": [
    "clf_name = 'LOF'\n",
    "clf = LOF(contamination=contam)\n",
    "x_train = standardizer(x_train)\n",
    "clf.fit(x_train)\n",
    "y_pred = clf.labels_  # binary labels (0: inliers, 1: outliers)\n",
    "y_scores = clf.decision_scores_  # raw outlier scores\n",
    "evaluation(y, y_scores, clf_name)\n",
    "all_scores['LOF'] = y_scores"
   ]
  },
  {
   "cell_type": "markdown",
   "metadata": {},
   "source": [
    "## 4.PCA+KNN"
   ]
  },
  {
   "cell_type": "code",
   "execution_count": 15,
   "metadata": {},
   "outputs": [
    {
     "data": {
      "image/png": "[encoded data removed]",
      "text/plain": [
       "<Figure size 864x360 with 2 Axes>"
      ]
     },
     "metadata": {
      "needs_background": "light"
     },
     "output_type": "display_data"
    }
   ],
   "source": [
    "pca = PCA(n_components = 2)\n",
    "kpca = KernelPCA(n_components = 2, kernel = 'poly')\n",
    "x_train_pca = kpca.fit_transform(x_train)\n",
    "clf = KNN(n_neighbors = 5, contamination = contam)\n",
    "x_train_pca = standardizer(x_train_pca)\n",
    "clf.fit(x_train_pca)\n",
    "y_pred_pca = clf.labels_\n",
    "y_scores = clf.decision_scores_\n",
    "evaluation(y, y_scores, 'PCA+KNN')\n",
    "all_scores['PCA+KNN'] = y_scores"
   ]
  },
  {
   "cell_type": "code",
   "execution_count": 16,
   "metadata": {},
   "outputs": [
    {
     "name": "stdout",
     "output_type": "stream",
     "text": [
      "KNN (36000,)\n",
      "PCA (36000,)\n",
      "LOF (36000,)\n",
      "PCA+KNN (36000,)\n"
     ]
    },
    {
     "data": {
      "image/png": "[encoded data removed]",
      "text/plain": [
       "<Figure size 504x504 with 1 Axes>"
      ]
     },
     "metadata": {
      "needs_background": "light"
     },
     "output_type": "display_data"
    }
   ],
   "source": [
    "evaluation(y, all_scores, algorithms)"
   ]
  },
  {
   "cell_type": "markdown",
   "metadata": {},
   "source": [
    "### 从图中可以看出，PCA+KNN和KNN在抽样数据中效果最好，而PCA和LOF表现较差。"
   ]
  },
  {
   "cell_type": "code",
   "execution_count": null,
   "metadata": {},
   "outputs": [],
   "source": []
  }
 ],
 "metadata": {
  "kernelspec": {
   "display_name": "venv",
   "language": "python",
   "name": "venv"
  },
  "language_info": {
   "codemirror_mode": {
    "name": "ipython",
    "version": 3
   },
   "file_extension": ".py",
   "mimetype": "text/x-python",
   "name": "python",
   "nbconvert_exporter": "python",
   "pygments_lexer": "ipython3",
   "version": "3.6.9"
  }
 },
 "nbformat": 4,
 "nbformat_minor": 4
}
